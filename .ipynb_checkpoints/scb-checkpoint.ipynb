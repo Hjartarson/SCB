{
 "cells": [
  {
   "cell_type": "code",
   "execution_count": 21,
   "metadata": {
    "collapsed": false
   },
   "outputs": [],
   "source": [
    "import requests\n",
    "import json\n",
    "import pandas as pd\n",
    "\n",
    "from io import StringIO\n",
    "from IPython.core.display import HTML"
   ]
  },
  {
   "cell_type": "code",
   "execution_count": 37,
   "metadata": {
    "collapsed": true
   },
   "outputs": [],
   "source": [
    "url = 'http://api.scb.se/OV0104/v1/doris/sv/ssd/BE/BE0101/BE0101H/FoddaK'\n",
    "url = 'http://api.scb.se/OV0104/v1/doris/sv/ssd/'\n",
    "query = {\"query\": [], \"response\": {}}"
   ]
  },
  {
   "cell_type": "code",
   "execution_count": 39,
   "metadata": {
    "collapsed": false
   },
   "outputs": [],
   "source": [
    "#CREATE NEW FILTER\n",
    "code = 'Region'\n",
    "kind = 'item'\n",
    "values = ['00']\n",
    "new_filter = {\"code\": code, \"selection\": {\"filter\": kind, \"values\": values}}\n",
    "try:\n",
    "    ix = next(i for (i, d) in enumerate(query['query']) if d['code'] == code)\n",
    "    query['query'][ix] = new_filter\n",
    "    print(1)\n",
    "except StopIteration:\n",
    "    query[\"query\"].append(new_filter)"
   ]
  },
  {
   "cell_type": "code",
   "execution_count": 23,
   "metadata": {
    "collapsed": false
   },
   "outputs": [],
   "source": [
    "query[\"response\"] = {\"format\": 'csv'}\n",
    "r = requests.post(url, data=json.dumps(query))"
   ]
  },
  {
   "cell_type": "code",
   "execution_count": 27,
   "metadata": {
    "collapsed": false
   },
   "outputs": [],
   "source": [
    "df = pd.read_csv(StringIO(r.text))"
   ]
  },
  {
   "cell_type": "code",
   "execution_count": 36,
   "metadata": {
    "collapsed": false
   },
   "outputs": [
    {
     "data": {
      "text/html": [
       "<div>\n",
       "<table border=\"1\" class=\"dataframe\">\n",
       "  <thead>\n",
       "    <tr style=\"text-align: right;\">\n",
       "      <th></th>\n",
       "      <th>0</th>\n",
       "    </tr>\n",
       "  </thead>\n",
       "  <tbody>\n",
       "    <tr>\n",
       "      <th>region</th>\n",
       "      <td>00 Riket</td>\n",
       "    </tr>\n",
       "    <tr>\n",
       "      <th>Levande födda 1968</th>\n",
       "      <td>113086</td>\n",
       "    </tr>\n",
       "    <tr>\n",
       "      <th>Levande födda 1969</th>\n",
       "      <td>107621</td>\n",
       "    </tr>\n",
       "    <tr>\n",
       "      <th>Levande födda 1970</th>\n",
       "      <td>110149</td>\n",
       "    </tr>\n",
       "    <tr>\n",
       "      <th>Levande födda 1971</th>\n",
       "      <td>114485</td>\n",
       "    </tr>\n",
       "  </tbody>\n",
       "</table>\n",
       "</div>"
      ],
      "text/plain": [
       "                           0\n",
       "region              00 Riket\n",
       "Levande födda 1968    113086\n",
       "Levande födda 1969    107621\n",
       "Levande födda 1970    110149\n",
       "Levande födda 1971    114485"
      ]
     },
     "execution_count": 36,
     "metadata": {},
     "output_type": "execute_result"
    }
   ],
   "source": [
    "df.T.head()"
   ]
  },
  {
   "cell_type": "code",
   "execution_count": 40,
   "metadata": {
    "collapsed": false
   },
   "outputs": [
    {
     "data": {
      "text/plain": [
       "{'query': [{'code': 'Region',\n",
       "   'selection': {'filter': 'item', 'values': ['00']}}],\n",
       " 'response': {}}"
      ]
     },
     "execution_count": 40,
     "metadata": {},
     "output_type": "execute_result"
    }
   ],
   "source": [
    "query"
   ]
  },
  {
   "cell_type": "code",
   "execution_count": null,
   "metadata": {
    "collapsed": true
   },
   "outputs": [],
   "source": []
  }
 ],
 "metadata": {
  "anaconda-cloud": {},
  "kernelspec": {
   "display_name": "Python [Root]",
   "language": "python",
   "name": "Python [Root]"
  },
  "language_info": {
   "codemirror_mode": {
    "name": "ipython",
    "version": 3
   },
   "file_extension": ".py",
   "mimetype": "text/x-python",
   "name": "python",
   "nbconvert_exporter": "python",
   "pygments_lexer": "ipython3",
   "version": "3.5.2"
  }
 },
 "nbformat": 4,
 "nbformat_minor": 0
}
