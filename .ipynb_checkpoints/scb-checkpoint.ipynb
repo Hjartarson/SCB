{
 "cells": [
  {
   "cell_type": "code",
   "execution_count": 28,
   "metadata": {},
   "outputs": [],
   "source": [
    "import requests\n",
    "import json\n",
    "import pandas as pd\n",
    "%matplotlib inline\n",
    "\n",
    "from io import StringIO\n",
    "from IPython.core.display import HTML"
   ]
  },
  {
   "cell_type": "code",
   "execution_count": 15,
   "metadata": {
    "collapsed": true
   },
   "outputs": [],
   "source": [
    "url = 'http://api.scb.se/OV0104/v1/doris/sv/ssd/BE/BE0101/BE0101H/FoddaK'\n",
    "query = {\"query\": [], \"response\": {}}"
   ]
  },
  {
   "cell_type": "code",
   "execution_count": 16,
   "metadata": {},
   "outputs": [
    {
     "name": "stdout",
     "output_type": "stream",
     "text": [
      "{'query': [], 'response': {}}\n"
     ]
    }
   ],
   "source": [
    "#CREATE NEW FILTER\n",
    "code = 'Region'\n",
    "kind = 'item'\n",
    "values = ['00']\n",
    "print(query)\n",
    "new_filter = {\"code\": code, \"selection\": {\"filter\": kind, \"values\": values}}\n",
    "try:\n",
    "    ix = next(i for (i, d) in enumerate(query['query']) if d['code'] == code)\n",
    "    query['query'][ix] = new_filter\n",
    "except StopIteration:\n",
    "    query[\"query\"].append(new_filter)"
   ]
  },
  {
   "cell_type": "code",
   "execution_count": 17,
   "metadata": {},
   "outputs": [
    {
     "name": "stdout",
     "output_type": "stream",
     "text": [
      "{'query': [{'code': 'Region', 'selection': {'filter': 'item', 'values': ['00']}}], 'response': {'format': 'csv'}}\n"
     ]
    }
   ],
   "source": [
    "query[\"response\"] = {\"format\": 'csv'}\n",
    "print(query)\n",
    "r = requests.post(url, data=json.dumps(query))"
   ]
  },
  {
   "cell_type": "code",
   "execution_count": 18,
   "metadata": {},
   "outputs": [],
   "source": [
    "df = pd.read_csv(StringIO(r.text))"
   ]
  },
  {
   "cell_type": "code",
   "execution_count": 19,
   "metadata": {},
   "outputs": [
    {
     "data": {
      "text/html": [
       "<div>\n",
       "<style>\n",
       "    .dataframe thead tr:only-child th {\n",
       "        text-align: right;\n",
       "    }\n",
       "\n",
       "    .dataframe thead th {\n",
       "        text-align: left;\n",
       "    }\n",
       "\n",
       "    .dataframe tbody tr th {\n",
       "        vertical-align: top;\n",
       "    }\n",
       "</style>\n",
       "<table border=\"1\" class=\"dataframe\">\n",
       "  <thead>\n",
       "    <tr style=\"text-align: right;\">\n",
       "      <th></th>\n",
       "      <th>0</th>\n",
       "    </tr>\n",
       "  </thead>\n",
       "  <tbody>\n",
       "    <tr>\n",
       "      <th>region</th>\n",
       "      <td>00 Riket</td>\n",
       "    </tr>\n",
       "    <tr>\n",
       "      <th>Levande födda 1968</th>\n",
       "      <td>113086</td>\n",
       "    </tr>\n",
       "    <tr>\n",
       "      <th>Levande födda 1969</th>\n",
       "      <td>107621</td>\n",
       "    </tr>\n",
       "    <tr>\n",
       "      <th>Levande födda 1970</th>\n",
       "      <td>110149</td>\n",
       "    </tr>\n",
       "    <tr>\n",
       "      <th>Levande födda 1971</th>\n",
       "      <td>114485</td>\n",
       "    </tr>\n",
       "  </tbody>\n",
       "</table>\n",
       "</div>"
      ],
      "text/plain": [
       "                           0\n",
       "region              00 Riket\n",
       "Levande födda 1968    113086\n",
       "Levande födda 1969    107621\n",
       "Levande födda 1970    110149\n",
       "Levande födda 1971    114485"
      ]
     },
     "execution_count": 19,
     "metadata": {},
     "output_type": "execute_result"
    }
   ],
   "source": [
    "df.T.head()"
   ]
  },
  {
   "cell_type": "code",
   "execution_count": 29,
   "metadata": {},
   "outputs": [
    {
     "data": {
      "text/plain": [
       "<matplotlib.axes._subplots.AxesSubplot at 0x21aee186f60>"
      ]
     },
     "execution_count": 29,
     "metadata": {},
     "output_type": "execute_result"
    },
    {
     "data": {
      "image/png": "[encoded data removed]",
      "text/plain": [
       "<matplotlib.figure.Figure at 0x21aee23f2b0>"
      ]
     },
     "metadata": {},
     "output_type": "display_data"
    }
   ],
   "source": [
    "df.T[1:100].plot()"
   ]
  },
  {
   "cell_type": "code",
   "execution_count": 20,
   "metadata": {},
   "outputs": [
    {
     "data": {
      "text/plain": [
       "{'query': [{'code': 'Region',\n",
       "   'selection': {'filter': 'item', 'values': ['00']}}],\n",
       " 'response': {'format': 'csv'}}"
      ]
     },
     "execution_count": 20,
     "metadata": {},
     "output_type": "execute_result"
    }
   ],
   "source": [
    "query"
   ]
  },
  {
   "cell_type": "code",
   "execution_count": 8,
   "metadata": {},
   "outputs": [
    {
     "name": "stdout",
     "output_type": "stream",
     "text": [
      "Empty DataFrame\n",
      "Columns: [[{\"id\":\"SamForvInk1a\", type:\"t\", text:\"Sammanräknad förvärvsinkomst för boende i Sverige hela året (antal personer,  medel- och medianinkomst samt totalsumma) efter kön,  inkomstklass och ålder i 1-årsklasser. År 1999 - 2015\", updated:\"2017-01-31T09:30:00\"}, {\"id\":\"SamForvInk1c\", type:\"t\".1, text:\"Sammanräknad förvärvsinkomst för boende i Sverige hela året (antal personer.1,  medel- och medianinkomst samt totalsumma) efter region,  utbildningsnivå,  kön och ålder. År 2000 - 2015\", updated:\"2017-01-31T09:30:00\"}.1, {\"id\":\"InkAvTjanst\", type:\"t\".2, text:\"Inkomst av tjänst (antal personer,  medelvärden och totalsumma) efter region,  kön,  ålder och inkomstklass. År 2000 - 2015\", updated:\"2017-01-31T09:30:00\"}.2, {\"id\":\"SamForvInk1\", type:\"t\".3, text:\"Sammanräknad förvärvsinkomst för boende i Sverige hela året (antal personer.2,  medel- och medianinkomst samt totalsumma) efter region.1,  kön.1,  ålder och inkomstklass. År 1999 - 2015\", updated:\"2017-01-31T09:30:00\"}.3, {\"id\":\"SamForvInk1b\", type:\"t\".4, text:\"Sammanräknad förvärvsinkomst för boende i Sverige hela året (antal personer.3,  medel- och medianinkomst samt totalsumma) efter region.2,  kön och ålder i 1-årsklasser. År 1999 - 2015\", updated:\"2017-01-31T09:30:00\"}.4, {\"id\":\"SamForvInk2\", type:\"t\".5, text:\"Sammanräknad förvärvsinkomst för boende i Sverige den 31/12 resp år (antal personer,  medel- och medianinkomst samt totalsumma) efter region.3,  kön.2,  ålder och inkomstklass. År 1991 - 2015\", updated:\"2017-05-09T13:28:00\"}, {\"id\":\"NetInk02\", type:\"t\".6, text:\"Nettoinkomst för boende i Sverige hela året (antal personer,  medel- och medianinkomst samt totalsumma) efter region.4,  kön och ålder. År 2000 - 2015\".1, updated:\"2017-06-29T09:30:00\"}]]\n",
      "Index: []\n",
      "\n",
      "[0 rows x 46 columns]\n"
     ]
    }
   ],
   "source": [
    "url = 'http://api.scb.se/OV0104/v1/doris/sv/ssd/HE/HE0110/HE0110A'\n",
    "#url = 'http://api.scb.se/OV0104/v1/doris/sv/ssd/BE/BE0101/BE0101H/FoddaK'\n",
    "\n",
    "#{\"code\":\"Tid\", \"selection\":{ \"filter\":\"top\", \"values\":[\"3\"]}}],\n",
    "query = {\"query\": [], \"response\": {'format': 'csv'}}\n",
    "r = requests.post(url, data=json.dumps(query))\n",
    "df = pd.read_csv(StringIO(r.text))\n",
    "print(df)"
   ]
  },
  {
   "cell_type": "code",
   "execution_count": 9,
   "metadata": {},
   "outputs": [
    {
     "data": {
      "text/html": [
       "<div>\n",
       "<style>\n",
       "    .dataframe thead tr:only-child th {\n",
       "        text-align: right;\n",
       "    }\n",
       "\n",
       "    .dataframe thead th {\n",
       "        text-align: left;\n",
       "    }\n",
       "\n",
       "    .dataframe tbody tr th {\n",
       "        vertical-align: top;\n",
       "    }\n",
       "</style>\n",
       "<table border=\"1\" class=\"dataframe\">\n",
       "  <thead>\n",
       "    <tr style=\"text-align: right;\">\n",
       "      <th></th>\n",
       "      <th>[{\"id\":\"SamForvInk1a\"</th>\n",
       "      <th>type:\"t\"</th>\n",
       "      <th>text:\"Sammanräknad förvärvsinkomst för boende i Sverige hela året (antal personer</th>\n",
       "      <th>medel- och medianinkomst samt totalsumma) efter kön</th>\n",
       "      <th>inkomstklass och ålder i 1-årsklasser. År 1999 - 2015\"</th>\n",
       "      <th>updated:\"2017-01-31T09:30:00\"}</th>\n",
       "      <th>{\"id\":\"SamForvInk1c\"</th>\n",
       "      <th>type:\"t\".1</th>\n",
       "      <th>text:\"Sammanräknad förvärvsinkomst för boende i Sverige hela året (antal personer.1</th>\n",
       "      <th>medel- och medianinkomst samt totalsumma) efter region</th>\n",
       "      <th>...</th>\n",
       "      <th>medel- och medianinkomst samt totalsumma) efter region.3</th>\n",
       "      <th>kön.2</th>\n",
       "      <th>ålder och inkomstklass. År 1991 - 2015\"</th>\n",
       "      <th>updated:\"2017-05-09T13:28:00\"}</th>\n",
       "      <th>{\"id\":\"NetInk02\"</th>\n",
       "      <th>type:\"t\".6</th>\n",
       "      <th>text:\"Nettoinkomst för boende i Sverige hela året (antal personer</th>\n",
       "      <th>medel- och medianinkomst samt totalsumma) efter region.4</th>\n",
       "      <th>kön och ålder. År 2000 - 2015\".1</th>\n",
       "      <th>updated:\"2017-06-29T09:30:00\"}]</th>\n",
       "    </tr>\n",
       "  </thead>\n",
       "  <tbody>\n",
       "  </tbody>\n",
       "</table>\n",
       "<p>0 rows × 46 columns</p>\n",
       "</div>"
      ],
      "text/plain": [
       "Empty DataFrame\n",
       "Columns: [[{\"id\":\"SamForvInk1a\", type:\"t\", text:\"Sammanräknad förvärvsinkomst för boende i Sverige hela året (antal personer,  medel- och medianinkomst samt totalsumma) efter kön,  inkomstklass och ålder i 1-årsklasser. År 1999 - 2015\", updated:\"2017-01-31T09:30:00\"}, {\"id\":\"SamForvInk1c\", type:\"t\".1, text:\"Sammanräknad förvärvsinkomst för boende i Sverige hela året (antal personer.1,  medel- och medianinkomst samt totalsumma) efter region,  utbildningsnivå,  kön och ålder. År 2000 - 2015\", updated:\"2017-01-31T09:30:00\"}.1, {\"id\":\"InkAvTjanst\", type:\"t\".2, text:\"Inkomst av tjänst (antal personer,  medelvärden och totalsumma) efter region,  kön,  ålder och inkomstklass. År 2000 - 2015\", updated:\"2017-01-31T09:30:00\"}.2, {\"id\":\"SamForvInk1\", type:\"t\".3, text:\"Sammanräknad förvärvsinkomst för boende i Sverige hela året (antal personer.2,  medel- och medianinkomst samt totalsumma) efter region.1,  kön.1,  ålder och inkomstklass. År 1999 - 2015\", updated:\"2017-01-31T09:30:00\"}.3, {\"id\":\"SamForvInk1b\", type:\"t\".4, text:\"Sammanräknad förvärvsinkomst för boende i Sverige hela året (antal personer.3,  medel- och medianinkomst samt totalsumma) efter region.2,  kön och ålder i 1-årsklasser. År 1999 - 2015\", updated:\"2017-01-31T09:30:00\"}.4, {\"id\":\"SamForvInk2\", type:\"t\".5, text:\"Sammanräknad förvärvsinkomst för boende i Sverige den 31/12 resp år (antal personer,  medel- och medianinkomst samt totalsumma) efter region.3,  kön.2,  ålder och inkomstklass. År 1991 - 2015\", updated:\"2017-05-09T13:28:00\"}, {\"id\":\"NetInk02\", type:\"t\".6, text:\"Nettoinkomst för boende i Sverige hela året (antal personer,  medel- och medianinkomst samt totalsumma) efter region.4,  kön och ålder. År 2000 - 2015\".1, updated:\"2017-06-29T09:30:00\"}]]\n",
       "Index: []\n",
       "\n",
       "[0 rows x 46 columns]"
      ]
     },
     "execution_count": 9,
     "metadata": {},
     "output_type": "execute_result"
    }
   ],
   "source": [
    "df"
   ]
  }
 ],
 "metadata": {
  "anaconda-cloud": {},
  "kernelspec": {
   "display_name": "Python 3",
   "language": "python",
   "name": "python3"
  },
  "language_info": {
   "codemirror_mode": {
    "name": "ipython",
    "version": 3
   },
   "file_extension": ".py",
   "mimetype": "text/x-python",
   "name": "python",
   "nbconvert_exporter": "python",
   "pygments_lexer": "ipython3",
   "version": "3.6.1"
  }
 },
 "nbformat": 4,
 "nbformat_minor": 1
}
